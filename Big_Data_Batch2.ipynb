{
  "nbformat": 4,
  "nbformat_minor": 0,
  "metadata": {
    "colab": {
      "provenance": [],
      "authorship_tag": "ABX9TyO+9FSvFOhJMzTzzf8GJpy5",
      "include_colab_link": true
    },
    "kernelspec": {
      "name": "python3",
      "display_name": "Python 3"
    },
    "language_info": {
      "name": "python"
    }
  },
  "cells": [
    {
      "cell_type": "markdown",
      "metadata": {
        "id": "view-in-github",
        "colab_type": "text"
      },
      "source": [
        "<a href=\"https://colab.research.google.com/github/harnalashok/programbrochures/blob/main/Big_Data_Batch2.ipynb\" target=\"_parent\"><img src=\"https://colab.research.google.com/assets/colab-badge.svg\" alt=\"Open In Colab\"/></a>"
      ]
    },
    {
      "cell_type": "code",
      "execution_count": null,
      "metadata": {
        "id": "vnIeoUG0SNFy"
      },
      "outputs": [],
      "source": [
        "# LAst amended: 17th June, 2024\n",
        "# Projects executed by Big Data Students"
      ]
    },
    {
      "cell_type": "markdown",
      "source": [
        "All past students of Big Data are alumni of FORE School. Here are some of the projects executed by a few students."
      ],
      "metadata": {
        "id": "-lqGJz8xYyQ9"
      }
    },
    {
      "cell_type": "markdown",
      "source": [
        "[Sheik Mohamed Imran](https://github.com/sheikmohdimran) GitHub Site      \n",
        "[BhaBhaveshkumar Thaker](https://www.kaggle.com/bhaveshthaker/code) Kaggle contributions     \n",
        "[Devendra Yadav](https://www.kaggle.com/devendray/code) Kaggle Contributions      \n",
        "[Samir Kumar](https://www.kaggle.com/samirku/code) Kaggle contributions      \n",
        "[Anand Deshmukh](https://www.kaggle.com/anandad/code) Kaggle Contributions        \n",
        "[Carmen Rodriguez](https://www.kaggle.com/carmenbelen/code) Kaggle Contributions     \n",
        "[Debasmita Mishra](https://www.kaggle.com/reenanitr01) Kaggle Contributions    \n",
        "[Rituparna](https://www.kaggle.com/rgupta09/code) Kaggle Contributions  \n",
        "[Abhishek Kumar Gauraw](https://www.kaggle.com/akgauravin/code) KAggle Contributions     \n",
        "[Ricardo Duran](https://www.kaggle.com/rirodrig/code)  Kaggle Contributions      \n",
        "[Ravi Rokhade](https://www.kaggle.com/ravirk66/code) Kaggle contributions     \n",
        "[Nidhi Wadhwa](https://www.kaggle.com/nidhiw/code) Kaggle contributions    \n",
        "[Sandesh A K](https://www.kaggle.com/sandeshak/code) Kaggle contributions      \n",
        "[Rohit Jain](https://www.kaggle.com/rohitjain2086/code) Kaggle contributions\n",
        "\n"
      ],
      "metadata": {
        "id": "QZ0mPpMPSOML"
      }
    },
    {
      "cell_type": "code",
      "source": [
        "###### I am done #######33"
      ],
      "metadata": {
        "id": "8Ne4CEMUSowF"
      },
      "execution_count": null,
      "outputs": []
    }
  ]
}