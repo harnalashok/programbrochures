{
  "nbformat": 4,
  "nbformat_minor": 0,
  "metadata": {
    "colab": {
      "provenance": [],
      "authorship_tag": "ABX9TyOLF8BngcC4dETt81jdQLYj",
      "include_colab_link": true
    },
    "kernelspec": {
      "name": "python3",
      "display_name": "Python 3"
    },
    "language_info": {
      "name": "python"
    }
  },
  "cells": [
    {
      "cell_type": "markdown",
      "metadata": {
        "id": "view-in-github",
        "colab_type": "text"
      },
      "source": [
        "<a href=\"https://colab.research.google.com/github/harnalashok/programbrochures/blob/main/Big_Data_Batch_projects.ipynb\" target=\"_parent\"><img src=\"https://colab.research.google.com/assets/colab-badge.svg\" alt=\"Open In Colab\"/></a>"
      ]
    },
    {
      "cell_type": "code",
      "execution_count": null,
      "metadata": {
        "id": "vnIeoUG0SNFy"
      },
      "outputs": [],
      "source": [
        "# LAst amended: 17th June, 2024\n",
        "# Projects executed by Big Data Students"
      ]
    },
    {
      "cell_type": "markdown",
      "source": [
        "All past students of Big Data are alumni of FORE School. Here are some of the projects executed by a few students."
      ],
      "metadata": {
        "id": "-lqGJz8xYyQ9"
      }
    },
    {
      "cell_type": "markdown",
      "source": [
        "1. [Sheik Mohamed Imran](https://github.com/sheikmohdimran) GitHub Site      \n",
        "2. [BhaBhaveshkumar Thaker](https://www.kaggle.com/bhaveshthaker/code) Kaggle contributions     \n",
        "3. [Devendra Yadav](https://www.kaggle.com/devendray/code) Kaggle Contributions      \n",
        "4. [Samir Kumar](https://www.kaggle.com/samirku/code) Kaggle contributions      \n",
        "5. [Anand Deshmukh](https://www.kaggle.com/anandad/code) Kaggle Contributions        \n",
        "6. [Carmen Rodriguez](https://www.kaggle.com/carmenbelen/code) Kaggle Contributions     \n",
        "7. [Debasmita Mishra](https://www.kaggle.com/reenanitr01) Kaggle Contributions    \n",
        "8. [Rituparna](https://www.kaggle.com/rgupta09/code) Kaggle Contributions  \n",
        "9. [Abhishek Kumar Gauraw](https://www.kaggle.com/akgauravin/code) KAggle Contributions     \n",
        "10. [Ricardo Duran](https://www.kaggle.com/rirodrig/code)  Kaggle Contributions         \n",
        "11. [Sreenivasa Chalamalasetty](https://www.kaggle.com/schalamalasetty/code) Kaggle Contributions    \n",
        "12. [Peal Das Gupta](https://www.kaggle.com/pealdasgupta/code) Kaggle contributions     \n",
        "13. [Ravi Rokhade](https://www.kaggle.com/ravirk66/code) Kaggle contributions     \n",
        "14. [Nidhi Wadhwa](https://www.kaggle.com/nidhiw/code) Kaggle contributions    \n",
        "15. [Sandesh A K](https://www.kaggle.com/sandeshak/code) Kaggle contributions      \n",
        "16. [Rohit Jain](https://www.kaggle.com/rohitjain2086/code) Kaggle contributions     \n",
        "17. [Biswajyoti Majumdar](https://www.kaggle.com/biswam87/code) Kaggle contributions      \n",
        "18. [Amuktha Gouru](https://www.kaggle.com/amukthag/code) Kaggle Contributions      \n",
        "20. [Digvijay Singh](https://www.kaggle.com/digvijaysingh16/code) Kaggle contributions      \n",
        "\n"
      ],
      "metadata": {
        "id": "QZ0mPpMPSOML"
      }
    },
    {
      "cell_type": "code",
      "source": [
        "###### I am done #######33"
      ],
      "metadata": {
        "id": "8Ne4CEMUSowF"
      },
      "execution_count": null,
      "outputs": []
    }
  ]
}